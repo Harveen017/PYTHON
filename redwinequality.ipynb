{
  "nbformat": 4,
  "nbformat_minor": 0,
  "metadata": {
    "colab": {
      "name": "redwinequality.ipynb",
      "provenance": [],
      "collapsed_sections": [],
      "authorship_tag": "ABX9TyNp2pQo0Wn4xmkQ9nS5Kf7t",
      "include_colab_link": true
    },
    "kernelspec": {
      "name": "python3",
      "display_name": "Python 3"
    },
    "language_info": {
      "name": "python"
    }
  },
  "cells": [
    {
      "cell_type": "markdown",
      "metadata": {
        "id": "view-in-github",
        "colab_type": "text"
      },
      "source": [
        "<a href=\"https://colab.research.google.com/github/Harveen017/Python/blob/main/redwinequality.ipynb\" target=\"_parent\"><img src=\"https://colab.research.google.com/assets/colab-badge.svg\" alt=\"Open In Colab\"/></a>"
      ]
    },
    {
      "cell_type": "markdown",
      "source": [
        "#WORKING WITH RED WINE DATASET"
      ],
      "metadata": {
        "id": "69CWFFUKbDbj"
      }
    },
    {
      "cell_type": "code",
      "execution_count": null,
      "metadata": {
        "id": "CuSmDoD5bsrC"
      },
      "outputs": [],
      "source": [
        "import numpy as np\n",
        "url  = \"https://raw.githubusercontent.com/sarwansingh/Python/master/ClassExamples/data/wines/winequality-red.csv\""
      ]
    },
    {
      "cell_type": "code",
      "source": [
        "data = np.genfromtxt( url, delimiter=\";\", skip_header=1)\n",
        "print(data)\n",
        "print(data.shape)\n",
        "print(data.ndim)\n",
        "print(data.size)\n",
        "print(type(data))"
      ],
      "metadata": {
        "colab": {
          "base_uri": "https://localhost:8080/"
        },
        "id": "_WxfwbbrgKzT",
        "outputId": "e2030161-e0c9-4a70-df3e-f09ad61b5215"
      },
      "execution_count": null,
      "outputs": [
        {
          "output_type": "stream",
          "name": "stdout",
          "text": [
            "[[ 7.4    0.7    0.    ...  0.56   9.4    5.   ]\n",
            " [ 7.8    0.88   0.    ...  0.68   9.8    5.   ]\n",
            " [ 7.8    0.76   0.04  ...  0.65   9.8    5.   ]\n",
            " ...\n",
            " [ 6.3    0.51   0.13  ...  0.75  11.     6.   ]\n",
            " [ 5.9    0.645  0.12  ...  0.71  10.2    5.   ]\n",
            " [ 6.     0.31   0.47  ...  0.66  11.     6.   ]]\n",
            "(1599, 12)\n",
            "2\n",
            "19188\n",
            "<class 'numpy.ndarray'>\n"
          ]
        }
      ]
    },
    {
      "cell_type": "code",
      "source": [
        "print ( data [10:15,0:3])\n",
        "print(\"[:,1]=\")\n",
        "print(data[:,1])\n",
        "arr4=np.array(data[2:3,:])\n",
        "print(\"array\")\n",
        "print(arr4)"
      ],
      "metadata": {
        "colab": {
          "base_uri": "https://localhost:8080/"
        },
        "id": "hKQWuzWThfk1",
        "outputId": "198f19eb-1fc6-4c83-c53e-c2fdbedd034e"
      },
      "execution_count": null,
      "outputs": [
        {
          "output_type": "stream",
          "name": "stdout",
          "text": [
            "[[6.7   0.58  0.08 ]\n",
            " [7.5   0.5   0.36 ]\n",
            " [5.6   0.615 0.   ]\n",
            " [7.8   0.61  0.29 ]\n",
            " [8.9   0.62  0.18 ]]\n",
            "[:,1]=\n",
            "[0.7   0.88  0.76  ... 0.51  0.645 0.31 ]\n",
            "array\n",
            "[[7.80e+00 7.60e-01 4.00e-02 2.30e+00 9.20e-02 1.50e+01 5.40e+01 9.97e-01\n",
            "  3.26e+00 6.50e-01 9.80e+00 5.00e+00]]\n"
          ]
        }
      ]
    },
    {
      "cell_type": "code",
      "source": [
        "#find the max and min\n",
        "print((data[:,1]).max())\n",
        "print((data[:,1]).min())\n"
      ],
      "metadata": {
        "colab": {
          "base_uri": "https://localhost:8080/"
        },
        "id": "VrTY3305pKRO",
        "outputId": "3f273e49-a50a-4d56-a4dd-6984e67b43e5"
      },
      "execution_count": null,
      "outputs": [
        {
          "output_type": "stream",
          "name": "stdout",
          "text": [
            "1.58\n",
            "0.12\n"
          ]
        }
      ]
    },
    {
      "cell_type": "code",
      "source": [
        "#max and min of all columns using functions\n",
        "def showMaxMin(data):\n",
        "  for i in range(0,12):\n",
        "    print(\"MAXIMUM OF\", i ,\"column==\",(data[:,i]).max())\n",
        "    print(\"MINIMUM OF\", i ,\"column==\",(data[:,i]).min())\n",
        "showMaxMin(data)                              \n",
        "\n",
        "    \n",
        "\n",
        "\n",
        "    \n",
        "   \n",
        "\n"
      ],
      "metadata": {
        "colab": {
          "base_uri": "https://localhost:8080/",
          "height": 235
        },
        "id": "5m_iymekwD80",
        "outputId": "182af0f4-eae4-4ef7-a605-63278caa554c"
      },
      "execution_count": null,
      "outputs": [
        {
          "output_type": "error",
          "ename": "NameError",
          "evalue": "ignored",
          "traceback": [
            "\u001b[0;31m---------------------------------------------------------------------------\u001b[0m",
            "\u001b[0;31mNameError\u001b[0m                                 Traceback (most recent call last)",
            "\u001b[0;32m<ipython-input-1-2925aac3422f>\u001b[0m in \u001b[0;36m<module>\u001b[0;34m()\u001b[0m\n\u001b[1;32m      4\u001b[0m     \u001b[0mprint\u001b[0m\u001b[0;34m(\u001b[0m\u001b[0;34m\"MAXIMUM OF\"\u001b[0m\u001b[0;34m,\u001b[0m \u001b[0mi\u001b[0m \u001b[0;34m,\u001b[0m\u001b[0;34m\"column==\"\u001b[0m\u001b[0;34m,\u001b[0m\u001b[0;34m(\u001b[0m\u001b[0mdata\u001b[0m\u001b[0;34m[\u001b[0m\u001b[0;34m:\u001b[0m\u001b[0;34m,\u001b[0m\u001b[0mi\u001b[0m\u001b[0;34m]\u001b[0m\u001b[0;34m)\u001b[0m\u001b[0;34m.\u001b[0m\u001b[0mmax\u001b[0m\u001b[0;34m(\u001b[0m\u001b[0;34m)\u001b[0m\u001b[0;34m)\u001b[0m\u001b[0;34m\u001b[0m\u001b[0;34m\u001b[0m\u001b[0m\n\u001b[1;32m      5\u001b[0m     \u001b[0mprint\u001b[0m\u001b[0;34m(\u001b[0m\u001b[0;34m\"MINIMUM OF\"\u001b[0m\u001b[0;34m,\u001b[0m \u001b[0mi\u001b[0m \u001b[0;34m,\u001b[0m\u001b[0;34m\"column==\"\u001b[0m\u001b[0;34m,\u001b[0m\u001b[0;34m(\u001b[0m\u001b[0mdata\u001b[0m\u001b[0;34m[\u001b[0m\u001b[0;34m:\u001b[0m\u001b[0;34m,\u001b[0m\u001b[0mi\u001b[0m\u001b[0;34m]\u001b[0m\u001b[0;34m)\u001b[0m\u001b[0;34m.\u001b[0m\u001b[0mmin\u001b[0m\u001b[0;34m(\u001b[0m\u001b[0;34m)\u001b[0m\u001b[0;34m)\u001b[0m\u001b[0;34m\u001b[0m\u001b[0;34m\u001b[0m\u001b[0m\n\u001b[0;32m----> 6\u001b[0;31m \u001b[0mshowMaxMin\u001b[0m\u001b[0;34m(\u001b[0m\u001b[0mdata\u001b[0m\u001b[0;34m)\u001b[0m\u001b[0;34m\u001b[0m\u001b[0;34m\u001b[0m\u001b[0m\n\u001b[0m\u001b[1;32m      7\u001b[0m \u001b[0;34m\u001b[0m\u001b[0m\n\u001b[1;32m      8\u001b[0m \u001b[0;34m\u001b[0m\u001b[0m\n",
            "\u001b[0;31mNameError\u001b[0m: name 'data' is not defined"
          ]
        }
      ]
    },
    {
      "cell_type": "code",
      "source": [
        "#mean ,variance and std. dev. of all columns\n",
        "import pandas as pd\n",
        "def showSdMeanVar(data):\n",
        "  for i in range(0,12):\n",
        "    print(\"MEAN OF\", i ,\"COLUMN==\",np.mean(data[:,i]))\n",
        "    print(\"VARIANCE OF\", i ,\"COLUMN==\",np.var(data[:,i]))\n",
        "    print(\"STANDARD DEVIATION OF\", i ,\"COLUMN==\",np.std(data[:,i]))\n",
        "showSdMeanVar(data)\n"
      ],
      "metadata": {
        "colab": {
          "base_uri": "https://localhost:8080/"
        },
        "id": "uLJNIrrby0iW",
        "outputId": "e0f41967-6827-41ff-e792-798687c41752"
      },
      "execution_count": null,
      "outputs": [
        {
          "output_type": "stream",
          "name": "stdout",
          "text": [
            "MEAN OF 0 COLUMN== 8.31963727329581\n",
            "VARIANCE OF 0 COLUMN== 3.0295205688671114\n",
            "STANDARD DEVIATION OF 0 COLUMN== 1.7405518001102729\n",
            "MEAN OF 1 COLUMN== 0.5278205128205128\n",
            "VARIANCE OF 1 COLUMN== 0.0320423261333205\n",
            "STANDARD DEVIATION OF 1 COLUMN== 0.17900370424469014\n",
            "MEAN OF 2 COLUMN== 0.2709756097560976\n",
            "VARIANCE OF 2 COLUMN== 0.03792375112494089\n",
            "STANDARD DEVIATION OF 2 COLUMN== 0.19474021445233364\n",
            "MEAN OF 3 COLUMN== 2.53880550343965\n",
            "VARIANCE OF 3 COLUMN== 1.9866539202698996\n",
            "STANDARD DEVIATION OF 3 COLUMN== 1.4094871124880495\n",
            "MEAN OF 4 COLUMN== 0.08746654158849279\n",
            "VARIANCE OF 4 COLUMN== 0.0022137573233114347\n",
            "STANDARD DEVIATION OF 4 COLUMN== 0.04705058260331571\n",
            "MEAN OF 5 COLUMN== 15.874921826141339\n",
            "VARIANCE OF 5 COLUMN== 109.34645676374501\n",
            "STANDARD DEVIATION OF 5 COLUMN== 10.45688561493072\n",
            "MEAN OF 6 COLUMN== 46.46779237023139\n",
            "VARIANCE OF 6 COLUMN== 1081.42563558916\n",
            "STANDARD DEVIATION OF 6 COLUMN== 32.88503665178374\n",
            "MEAN OF 7 COLUMN== 0.9967466791744841\n",
            "VARIANCE OF 7 COLUMN== 3.5598017926307083e-06\n",
            "STANDARD DEVIATION OF 7 COLUMN== 0.0018867437008323914\n",
            "MEAN OF 8 COLUMN== 3.3111131957473416\n",
            "VARIANCE OF 8 COLUMN== 0.023820274241131787\n",
            "STANDARD DEVIATION OF 8 COLUMN== 0.15433818141060165\n",
            "MEAN OF 9 COLUMN== 0.6581488430268917\n",
            "VARIANCE OF 9 COLUMN== 0.02871464701398349\n",
            "STANDARD DEVIATION OF 9 COLUMN== 0.16945396724179546\n",
            "MEAN OF 10 COLUMN== 10.422983114446529\n",
            "VARIANCE OF 10 COLUMN== 1.1349371714889036\n",
            "STANDARD DEVIATION OF 10 COLUMN== 1.0653343003437483\n",
            "MEAN OF 11 COLUMN== 5.6360225140712945\n",
            "VARIANCE OF 11 COLUMN== 0.6517605398308277\n",
            "STANDARD DEVIATION OF 11 COLUMN== 0.8073168769639513\n"
          ]
        }
      ]
    },
    {
      "cell_type": "code",
      "source": [
        "#20 july 22\n",
        "#HISTOGRAM\n",
        "arr1=np.array([1,2,3,4,5,6,7,68,60,4,64,6,59,45,35])\n",
        "import matplotlib.pyplot as plt\n",
        "plt.hist(arr1,bins=10)\n",
        "plt.xlabel('frequency')\n",
        "plt.ylabel('hours')\n",
        "plt.show()\n",
        " "
      ],
      "metadata": {
        "colab": {
          "base_uri": "https://localhost:8080/",
          "height": 279
        },
        "id": "GFqkMpB2_InM",
        "outputId": "2df8983d-510d-49f3-bcf8-3870ab9dcd4c"
      },
      "execution_count": null,
      "outputs": [
        {
          "output_type": "display_data",
          "data": {
            "text/plain": [
              "<Figure size 432x288 with 1 Axes>"
            ],
            "image/png": "[encoded data removed]"
          },
          "metadata": {
            "needs_background": "light"
          }
        }
      ]
    },
    {
      "cell_type": "code",
      "source": [
        ""
      ],
      "metadata": {
        "id": "y5yvPNt59QmM"
      },
      "execution_count": null,
      "outputs": []
    }
  ]
}