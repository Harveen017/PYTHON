{
  "nbformat": 4,
  "nbformat_minor": 0,
  "metadata": {
    "colab": {
      "name": "python.ipynb",
      "provenance": [],
      "collapsed_sections": [],
      "toc_visible": true,
      "authorship_tag": "ABX9TyNXzDJyIeVa6w/jEQhF7LK1",
      "include_colab_link": true
    },
    "kernelspec": {
      "name": "python3",
      "display_name": "Python 3"
    },
    "language_info": {
      "name": "python"
    }
  },
  "cells": [
    {
      "cell_type": "markdown",
      "metadata": {
        "id": "view-in-github",
        "colab_type": "text"
      },
      "source": [
        "<a href=\"https://colab.research.google.com/github/Harveen017/Python/blob/main/python.ipynb\" target=\"_parent\"><img src=\"https://colab.research.google.com/assets/colab-badge.svg\" alt=\"Open In Colab\"/></a>"
      ]
    },
    {
      "cell_type": "markdown",
      "source": [
        "#**HISTORY OF PYTHON(5 JULY 2022)**\n",
        "Name taken from monty python's flying circus\n",
        "developed by guido van rossum in 1985\n",
        "**WHY PYTHON?**\n",
        "1.BEGINNER LANGUAGE\n",
        "2.OOPS\n",
        "3.INTERPRETED\n",
        "\n",
        "**COMPLING**-THE WHOLE PROGRAM IS CONVERTED IN TO BINARY CODE \n",
        "**INTERPRETING**- LINE BY LINE CONVERSION\n",
        "\n",
        "#**APPLICATIONS OF PYTHON:**\n",
        "1.WEB DEVEOPMENT(DJANGO)\n",
        "2.GAME DEVELOMENT\n",
        "3.DATA SCIENCE\n",
        "4.ARTIFICIAL INTELLIGENCE AND MACHINE LEARING\n",
        "5.GUI\n",
        "6.WEB SCRAPING APPLICATIONS\n",
        "\n",
        "**Ecosystems of python:**\n",
        "1.NUMPY(ARRAYS)\n",
        "2.PANDAS(DATABASE)\n",
        "3.SCIKIT\n",
        "4.SEABORN ETC...\n",
        "\n",
        "\n"
      ],
      "metadata": {
        "id": "RCk6oYjNo-TI"
      }
    },
    {
      "cell_type": "markdown",
      "source": [
        "6 JULY 2022\n",
        "**DEVELOPMENT ENVIRONMENT**\n",
        "1.KOMODO\n",
        "2.IDLE\n",
        "3.GEDIT\n",
        "4.EMACS\n",
        "**INTELLISENSE**\n",
        "SUGGESTIONS GIVEN BY THE EDITOR(THE REQUIREMENT IS ONLY THE EXTENSION OF THE FILE)\n",
        "\n",
        "**IDLE**\n",
        "INTERATED DEVELOPMENT LEARNING ENVIROMENT\n",
        "EG-JUPYTER,SPYDER,PYCHARM ETC.\n"
      ],
      "metadata": {
        "id": "p4exNbdHiS6t"
      }
    },
    {
      "cell_type": "markdown",
      "source": [
        "#PYTHON BASICS(DATATYPES)\n",
        "\n",
        "DATATYPES:TELLS THE TYPE OF DATA\n",
        "**NOTE**\n",
        "PYTHON DOES NOT NEED ANY EXPLICIT DECLARATION"
      ],
      "metadata": {
        "id": "pAkKxL4nkrCC"
      }
    },
    {
      "cell_type": "code",
      "source": [
        "#WAP TO DEMOSTRATE DIFFERENT DATATYPES IN PYTHON\n",
        "a=10\n",
        "print(a)\n",
        "print(type(a))\n",
        "b=\"harveen\"\n",
        "print(b)\n",
        "print(type(b))\n",
        "list=[1,12]\n",
        "print(list)\n",
        "print(type(list))\n",
        "dict={'a':74}\n",
        "print(dict)\n",
        "print(type(dict))\n",
        "tuple=(1,'a')\n",
        "print(tuple)\n",
        "print(type(tuple ))"
      ],
      "metadata": {
        "colab": {
          "base_uri": "https://localhost:8080/"
        },
        "id": "QdQsDLsrlBbW",
        "outputId": "3d9c29d9-5baa-4c7c-c8a7-8c28bb79692e"
      },
      "execution_count": null,
      "outputs": [
        {
          "output_type": "stream",
          "name": "stdout",
          "text": [
            "10\n",
            "<class 'int'>\n",
            "harveen\n",
            "<class 'str'>\n",
            "[1, 12]\n",
            "<class 'list'>\n",
            "{'a': 74}\n",
            "<class 'dict'>\n",
            "(1, 'a')\n",
            "<class 'tuple'>\n"
          ]
        }
      ]
    },
    {
      "cell_type": "markdown",
      "source": [
        "#ARTHEMETIC OPERATIONS "
      ],
      "metadata": {
        "id": "gQJ_dWXWVz7u"
      }
    },
    {
      "cell_type": "code",
      "source": [
        "#WAP TO PERFORM ALL ARTHEMETIC OPERATIONS\n",
        "a=int(input(\"ENTER FIRST NUMBER::\"))\n",
        "b=int(input(\"ENTER FIRST NUMBER::\"))\n",
        "sum=a+b\n",
        "mul=a*b\n",
        "div=a/b\n",
        "sub=a-b\n",
        "divv=a//b\n",
        "print(\"SUM=\",sum)\n",
        "print(\"MUL=\",mul)\n",
        "print(\"DIV=\",div)\n",
        "print(\"SUB=\",sub)\n",
        "print(\"FLOOR DIVISION=\",divv)"
      ],
      "metadata": {
        "colab": {
          "base_uri": "https://localhost:8080/"
        },
        "id": "K97Jf4KSuORQ",
        "outputId": "45158f43-2abd-44b3-8588-955f1f88a815"
      },
      "execution_count": null,
      "outputs": [
        {
          "output_type": "stream",
          "name": "stdout",
          "text": [
            "ENTER FIRST NUMBER::10\n",
            "ENTER FIRST NUMBER::5\n",
            "SUM= 15\n",
            "MUL= 50\n",
            "DIV= 2.0\n",
            "SUB= 5\n",
            "FLOOR DIVISION= 2\n"
          ]
        }
      ]
    },
    {
      "cell_type": "code",
      "source": [
        "#WAP TO CALCULATE SIMPLE INTEREST \n",
        "p=int(input(\"ENTER PRINCIPLE VALUE=\"))\n",
        "r=int(input(\"ENTER RATE=\"))\n",
        "t=int(input(\"ENTER TIME INTERVAL=\"))\n",
        "a=p*(1+r*t)\n",
        "print(\"FINAL AMOUNT=\",a)\n",
        "\n",
        " "
      ],
      "metadata": {
        "colab": {
          "base_uri": "https://localhost:8080/"
        },
        "id": "tbLE3Zly0miF",
        "outputId": "02f417ae-1153-42d1-e605-d6f472225ccb"
      },
      "execution_count": null,
      "outputs": [
        {
          "output_type": "stream",
          "name": "stdout",
          "text": [
            "ENTER PRINCIPLE VALUE=100\n",
            "ENTER RATE=5\n",
            "ENTER TIME INTERVAL=2\n",
            "FINAL AMOUNT= 1100\n"
          ]
        }
      ]
    },
    {
      "cell_type": "code",
      "source": [
        "#WAP TO SWAP TWO NUMBERS COMMA METHOD\n",
        "a=int(input(\"ENTER FIRST NUMBER=\"))\n",
        "b=int(input(\"ENTER SECOND NUMBER=\"))\n",
        "print(\"BEFORE SWAPPING\")\n",
        "print(\"VALUE OF A=\",a)\n",
        "print(\"VALUE OF B=\",b)\n",
        "a,b=b,a\n",
        "print(\"AFTER SWAPPING\")\n",
        "print(\"VALUE OF A=\",a)\n",
        "print(\"VALUE OF B=\",b)\n"
      ],
      "metadata": {
        "colab": {
          "base_uri": "https://localhost:8080/"
        },
        "id": "C2YhBb6k1jqF",
        "outputId": "86e6e220-882c-4b72-8082-6eabb3a9ca90"
      },
      "execution_count": null,
      "outputs": [
        {
          "output_type": "stream",
          "name": "stdout",
          "text": [
            "ENTER FIRST NUMBER=2\n",
            "ENTER SECOND NUMBER=3\n",
            "BEFORE SWAPPING\n",
            "VALUE OF A= 2\n",
            "VALUE OF B= 3\n",
            "AFTER SWAPPING\n",
            "VALUE OF A= 3\n",
            "VALUE OF B= 2\n"
          ]
        }
      ]
    },
    {
      "cell_type": "code",
      "source": [
        "#WAP TO CACULATE PERCWENTAGE OF THE STUDENTS\n",
        "a=int(input(\"ENTER MARKS IN ENGLISH::\"))\n",
        "b=int(input(\"ENTER MARKS IN PHYSICS::\"))\n",
        "c=int(input(\"ENTER MARKS IN MATHEMATICS::\"))\n",
        "per=((a+b+c)/300)*100\n",
        "print(\"PERCENTAGE ::\",per)\n",
        "if(per>=80):\n",
        "  print(\"A GRADE\")\n",
        "elif(per>=60 and per<80):\n",
        "  print(\"B GRADE\")\n",
        "elif(per>=40):\n",
        "  print(\"C GRADE\")\n",
        "else:\n",
        "  print(\"FAIL\")"
      ],
      "metadata": {
        "id": "oUf8t9XuEKZn",
        "colab": {
          "base_uri": "https://localhost:8080/"
        },
        "outputId": "49a5d5ab-2ac6-484a-e065-06428e39d403"
      },
      "execution_count": null,
      "outputs": [
        {
          "output_type": "stream",
          "name": "stdout",
          "text": [
            "ENTER MARKS IN ENGLISH::100\n",
            "ENTER MARKS IN PHYSICS::100\n",
            "ENTER MARKS IN MATHEMATICS::100\n",
            "PERCENTAGE :: 100.0\n",
            "A GRADE\n"
          ]
        }
      ]
    },
    {
      "cell_type": "code",
      "source": [
        "#WAP TO CHECK NUMBER IS ARMSTRONG OR NOT\n",
        "a=int(input(\"ENTER A NUMBER::\"))\n",
        "b=a\n",
        "s=0\n",
        "while a>0:\n",
        "  c=a%10\n",
        "  s=s+c**3\n",
        "  a=a//10\n",
        "if(b==s):\n",
        "  print(\"NUMBER IS ARMSTRONG\")\n",
        "else:\n",
        "  print(\"NUMBER IS NOT ARMSTRONG\")\n"
      ],
      "metadata": {
        "colab": {
          "base_uri": "https://localhost:8080/"
        },
        "id": "KA56fvh5OAL_",
        "outputId": "c9dd7fd6-9f53-4294-abe7-d140068adf6a"
      },
      "execution_count": null,
      "outputs": [
        {
          "output_type": "stream",
          "name": "stdout",
          "text": [
            "ENTER A NUMBER::153\n",
            "NUMBER IS ARMSTRONG\n"
          ]
        }
      ]
    },
    {
      "cell_type": "code",
      "source": [
        "#WAP TO FIND SUM OF EVEN AND ODD NUMBER TILL 20\n",
        "s=0\n",
        "o=0\n",
        "for i in range(0,21):\n",
        "  if i%2==0:\n",
        "    s=s+i\n",
        "  else:\n",
        "    o=o+i\n",
        "print(\"SUM OF EVEN NUMBERS=\",s)\n",
        "print(\"SUM OF ODD NUMBERS=\",o)\n"
      ],
      "metadata": {
        "colab": {
          "base_uri": "https://localhost:8080/"
        },
        "id": "C_eIbhlIRQQu",
        "outputId": "aa726fe0-b917-47c1-cae1-8a4ce0b42429"
      },
      "execution_count": null,
      "outputs": [
        {
          "output_type": "stream",
          "name": "stdout",
          "text": [
            "SUM OF EVEN NUMBERS= 110\n",
            "SUM OF ODD NUMBERS= 100\n"
          ]
        }
      ]
    },
    {
      "cell_type": "code",
      "source": [
        "\n",
        "#WAP TO ENTER FROM USER UNTIL -1 ENCOUNTERED\n",
        "s=0\n",
        "list=[]\n",
        "a=int(input(\"ENTER A NUMBER::\"))\n",
        "if(a== -1):\n",
        "  print(\"MAXIMUM NUMBER IS -1\")\n",
        "else:\n",
        "  while(a!=-1):\n",
        "      b=int(input(\"ENTER A NUMBER::\"))\n",
        "      list.append(b)\n",
        "      a=b\n",
        "print(max(list))\n"
      ],
      "metadata": {
        "colab": {
          "base_uri": "https://localhost:8080/"
        },
        "id": "gWFmqVtEShm8",
        "outputId": "dcb172d9-2332-42c9-ce48-84eaa0313514"
      },
      "execution_count": null,
      "outputs": [
        {
          "output_type": "stream",
          "name": "stdout",
          "text": [
            "ENTER A NUMBER::45\n",
            "ENTER A NUMBER::56\n",
            "ENTER A NUMBER::-1\n",
            "56\n"
          ]
        }
      ]
    },
    {
      "cell_type": "code",
      "source": [
        "#WAP TO CHECK NUMBER IS PERFECT NUMBER OR NOT\n",
        "sum=0\n",
        "n=int(input(\"ENTER THE NUMBER::\"))\n",
        "i=1\n",
        "while(i<n):\n",
        "  rem=n%i\n",
        "  if(rem==0):\n",
        "    sum=sum+i\n",
        "  i=i+1\n",
        "if(sum==n):\n",
        "  print(\"PERFECT NUMBER\")\n",
        "else:\n",
        "  print(\"NOT A PREFECT NUMBER\")"
      ],
      "metadata": {
        "colab": {
          "base_uri": "https://localhost:8080/"
        },
        "id": "CTh04gqF2tDf",
        "outputId": "e46de3df-ec21-4372-a617-12ac030acca0"
      },
      "execution_count": null,
      "outputs": [
        {
          "output_type": "stream",
          "name": "stdout",
          "text": [
            "ENTER THE NUMBER::28\n",
            "PERFECT NUMBER\n"
          ]
        }
      ]
    },
    {
      "cell_type": "code",
      "source": [
        "#FACTORIAL USING FOR LOOP\n",
        "a=int(input(\"ENTER A NUMBER::\"))\n",
        "mul=1\n",
        "for i in range(1,a):\n",
        "  mul=mul*a;\n",
        "  a=a-1\n",
        "print(\"FACTORIAL OF NUMBER::\",mul)\n"
      ],
      "metadata": {
        "id": "omKSgNCCRe6K",
        "colab": {
          "base_uri": "https://localhost:8080/"
        },
        "outputId": "a7dcb281-9480-4aa8-f891-d5f026e21cd0"
      },
      "execution_count": null,
      "outputs": [
        {
          "output_type": "stream",
          "name": "stdout",
          "text": [
            "ENTER A NUMBER::5\n",
            "FACTORIAL OF NUMBER:: 120\n"
          ]
        }
      ]
    },
    {
      "cell_type": "markdown",
      "source": [
        "# BRANCHING STATEMENTS\n",
        "USE OF BREAK AND CONTINUE STATEMENT\n",
        "BREAK- THE KEYWORD IS USE TO TERMINATE FROM THE LOOP\n",
        "CONTINUE - THE KEYWORD IS USED  TO SKIP THE PART WHEN ENCOUNTERED"
      ],
      "metadata": {
        "id": "hFtQ_YsiUFc5"
      }
    },
    {
      "cell_type": "code",
      "source": [
        "#USE OF BREAK ANFD CONTINUE\n",
        "for i in range(0,11):\n",
        "  if i==5:\n",
        "    continue\n",
        "  if i==8:\n",
        "    break\n",
        "  print(i)\n",
        "  "
      ],
      "metadata": {
        "colab": {
          "base_uri": "https://localhost:8080/"
        },
        "id": "8ppOf2aXUgM4",
        "outputId": "cc97ee07-b3a0-46fc-cff7-b6c8ad730ccd"
      },
      "execution_count": null,
      "outputs": [
        {
          "output_type": "stream",
          "name": "stdout",
          "text": [
            "0\n",
            "1\n",
            "2\n",
            "3\n",
            "4\n",
            "6\n",
            "7\n"
          ]
        }
      ]
    },
    {
      "cell_type": "code",
      "source": [
        "#TO CHECK WHETHER NUMBER IS PRIME OR NOT\n",
        "n=int(input(\"ENTER A NUMBER::\"))\n",
        "flag = False\n",
        "if n > 1:\n",
        "    for i in range(2, n):\n",
        "        if (n % i) == 0:\n",
        "            flag = True\n",
        "            break\n",
        "if flag:\n",
        "    print(n, \"is not a prime number\")\n",
        "else:\n",
        "    print(n, \"is a prime number\")"
      ],
      "metadata": {
        "colab": {
          "base_uri": "https://localhost:8080/"
        },
        "id": "QzWVTpo-I1vq",
        "outputId": "3bd3e974-0301-4253-a0a7-9384331e340f"
      },
      "execution_count": null,
      "outputs": [
        {
          "output_type": "stream",
          "name": "stdout",
          "text": [
            "ENTER A NUMBER::78\n",
            "78 is not a prime number\n"
          ]
        }
      ]
    },
    {
      "cell_type": "code",
      "source": [
        "#READ 5 INTEGER FROM A USER PRINT SUM ONLY OF POSITIVE NUMBERS\n",
        "list=eval(input(\"ENTER NUMBERS::\"))\n",
        "sum=0\n",
        "for i in list:\n",
        "  if i>0:\n",
        "    sum=sum+i\n",
        "  else:pass\n",
        "print(\"SUM OF POSITIVE NUMBERS::\",sum)"
      ],
      "metadata": {
        "colab": {
          "base_uri": "https://localhost:8080/"
        },
        "id": "Njr6lP_eKIIW",
        "outputId": "55552ef9-80d6-4414-e0ab-61d60f84c155"
      },
      "execution_count": null,
      "outputs": [
        {
          "output_type": "stream",
          "name": "stdout",
          "text": [
            "ENTER NUMBERS::45,-8,6,-1\n",
            "SUM OF POSITIVE NUMBERS:: 51\n"
          ]
        }
      ]
    },
    {
      "cell_type": "code",
      "source": [
        "#OCCURENCE OF CHARACTER IN STRING\n",
        "a=input(\"ENTER A STRING::\")\n",
        "char=input(\"ENTER THE CHARACTER::\")\n",
        "print(\"COUNT=\",a.count(char))"
      ],
      "metadata": {
        "colab": {
          "base_uri": "https://localhost:8080/"
        },
        "id": "ESe3ySnXLxl7",
        "outputId": "1a43eb40-fd92-4ce8-a13d-3096fe846e1f"
      },
      "execution_count": null,
      "outputs": [
        {
          "output_type": "stream",
          "name": "stdout",
          "text": [
            "ENTER A STRING::harveen\n",
            "ENTER THE CHARACTER::e\n",
            "COUNT= 2\n"
          ]
        }
      ]
    },
    {
      "cell_type": "code",
      "source": [
        "#SUM OF RECIPROCAL OF FIRST 100 NATURAL NUMBER\n",
        "sum=0\n",
        "for i in range(1,101):\n",
        "  sum=sum+(1/i)\n",
        "print(\"SUM OF RECIROCAL::\",sum)\n"
      ],
      "metadata": {
        "colab": {
          "base_uri": "https://localhost:8080/"
        },
        "id": "zJlUUvJGO2J8",
        "outputId": "26d4237b-d0f3-47a9-8787-0da9c1d768b3"
      },
      "execution_count": null,
      "outputs": [
        {
          "output_type": "stream",
          "name": "stdout",
          "text": [
            "SUM OF RECIROCAL:: 5.187377517639621\n"
          ]
        }
      ]
    },
    {
      "cell_type": "markdown",
      "source": [
        "#STRING OPERATIONS"
      ],
      "metadata": {
        "id": "zW-AlV5-Zx_m"
      }
    },
    {
      "cell_type": "code",
      "source": [
        "#WAP TO DISPLAY ALL STRING FUNCTIONS IN ONE PROGRAM:UPPER, CAPTILIZE,IS ALPHA,IS DIGIT,LOWER\n",
        "a=input(\"ENTER A STRING::\")\n",
        "a.upper\n",
        "print(\"UPPERCASE::\",a.upper())\n",
        "print(\"LOWERCASE::\",a.lower())\n",
        "print(\"IS ALPHA::\",a.isalpha())\n",
        "print(\"IS DIGIT::\",a.isdigit())\n",
        "print(\"CAPITALIZE::\",a.capitalize())"
      ],
      "metadata": {
        "colab": {
          "base_uri": "https://localhost:8080/"
        },
        "id": "VwP9KgyDQHoM",
        "outputId": "48704cfd-cbc0-41a6-e3ef-39a03c345b03"
      },
      "execution_count": null,
      "outputs": [
        {
          "output_type": "stream",
          "name": "stdout",
          "text": [
            "ENTER A STRING::hammy\n",
            "UPPERCASE:: HAMMY\n",
            "LOWERCASE:: hammy\n",
            "IS ALPHA:: True\n",
            "IS DIGIT:: False\n",
            "CAPITALIZE:: Hammy\n"
          ]
        }
      ]
    },
    {
      "cell_type": "code",
      "source": [
        "#TO CHECK STRING IS PALINDROME OR NOT\n",
        "str1=input(\"ENTER A STRING::\")\n",
        "if str1[::-1]==str1:\n",
        "  print(\"STRING IS PALINDROME\")\n",
        "else:\n",
        "  print(\"STRING IS NOT PALINDROME\")\n"
      ],
      "metadata": {
        "colab": {
          "base_uri": "https://localhost:8080/"
        },
        "id": "WJ2uFOAx-7iU",
        "outputId": "63af34bd-5255-499e-d1c3-4b9c9a5a5b5e"
      },
      "execution_count": null,
      "outputs": [
        {
          "output_type": "stream",
          "name": "stdout",
          "text": [
            "ENTER A STRING::MADAM\n",
            "STRING IS PALINDROME\n"
          ]
        }
      ]
    },
    {
      "cell_type": "code",
      "source": [
        "#PROGRAM TO COUNT ALPHA,DIGITS AND SPECIAL CHAR IN A STRING\n",
        "s=input(\"ENTER A STRING::\")\n",
        "alpha=0\n",
        "digit=0\n",
        "spchar=0\n",
        "i=0\n",
        "while(i<len(s)):\n",
        "  if(s[i]>='a' and s[i]<='z' or s[i]>='A' and s[i]<='Z' ):\n",
        "    alpha=alpha+1\n",
        "    i=i+1\n",
        "  elif(s[i]>='0' and s[i]<='9'):\n",
        "    digit=digit+1\n",
        "    i=i+1\n",
        "  else:\n",
        "    spchar=spchar+1\n",
        "    i=i+1\n",
        "print(\"ALPHABETS::\",alpha)\n",
        "print(\"DIGITS::\",digit)\n",
        "print(\"SPECIAL CHAR::\",spchar)\n",
        "\n"
      ],
      "metadata": {
        "colab": {
          "base_uri": "https://localhost:8080/"
        },
        "id": "bMiuQwz0BpvW",
        "outputId": "e59b2a63-c03e-4892-8839-ee6ba77ab660"
      },
      "execution_count": null,
      "outputs": [
        {
          "output_type": "stream",
          "name": "stdout",
          "text": [
            "ENTER A STRING::jk78#$\n",
            "ALPHABETS:: 2\n",
            "DIGITS:: 2\n",
            "SPECIAL CHAR:: 2\n"
          ]
        }
      ]
    },
    {
      "cell_type": "code",
      "source": [
        "#REPLACE CHARACTER WITH STRING\n",
        "a='hammy'\n",
        "a.replace('a','#')"
      ],
      "metadata": {
        "colab": {
          "base_uri": "https://localhost:8080/",
          "height": 35
        },
        "id": "AHzeKNiDGeay",
        "outputId": "75040b13-bd5d-4e4e-b423-bfd6caeb22a5"
      },
      "execution_count": null,
      "outputs": [
        {
          "output_type": "execute_result",
          "data": {
            "text/plain": [
              "'h#mmy'"
            ],
            "application/vnd.google.colaboratory.intrinsic+json": {
              "type": "string"
            }
          },
          "metadata": {},
          "execution_count": 17
        }
      ]
    },
    {
      "cell_type": "code",
      "source": [
        "#WAP TO FIND SORTED MIDDLE ELEMENT\n",
        "l=[]\n",
        "a=int(input(\"ENTER THE LENGTH OF LIST::\"))\n",
        "for i in range(0,a):\n",
        "  b=int(input())\n",
        "  l.append(b)\n",
        "l.sort()\n",
        "mid=len(l)//2\n",
        "print(\"THE MIDDLE ELEMENT::\",l[mid8])\n",
        "\n"
      ],
      "metadata": {
        "colab": {
          "base_uri": "https://localhost:8080/"
        },
        "id": "TlCrTXI5KqAw",
        "outputId": "cf8b6f6d-8c1c-4bf2-af4b-a6d678de1b45"
      },
      "execution_count": null,
      "outputs": [
        {
          "output_type": "stream",
          "name": "stdout",
          "text": [
            "ENTER THE LENGTH OF LIST::3\n",
            "45\n",
            "56\n",
            "89\n",
            "THE MIDDLE ELEMENT:: 56\n"
          ]
        }
      ]
    },
    {
      "cell_type": "code",
      "source": [
        "#COUNT THE WORDS IN STRING\n",
        "a=input(\"ENTER THE STRING::\")\n",
        "print(a.count(input(\"ENTER THE ALPHABET::\")))"
      ],
      "metadata": {
        "colab": {
          "base_uri": "https://localhost:8080/"
        },
        "id": "8QA3LlXENNyU",
        "outputId": "77f1f570-d814-44e7-fdd3-40e1e1b48cda"
      },
      "execution_count": null,
      "outputs": [
        {
          "output_type": "stream",
          "name": "stdout",
          "text": [
            "ENTER THE STRING::hammy\n",
            "ENTER THE ALPHABET::m\n",
            "2\n"
          ]
        }
      ]
    },
    {
      "cell_type": "code",
      "source": [
        "#TABLES FROM 1 TO 5\n",
        "for i in range(1,6):\n",
        "  for j  in range(1,11):\n",
        "    print(i,\" * \",j,\" = \",i*j)\n",
        "print()"
      ],
      "metadata": {
        "colab": {
          "base_uri": "https://localhost:8080/"
        },
        "id": "3XFr4z2ZE2hI",
        "outputId": "0e9bd250-1cab-4d58-8570-f6fd58ca4f2b"
      },
      "execution_count": null,
      "outputs": [
        {
          "output_type": "stream",
          "name": "stdout",
          "text": [
            "1  *  1  =  1\n",
            "1  *  2  =  2\n",
            "1  *  3  =  3\n",
            "1  *  4  =  4\n",
            "1  *  5  =  5\n",
            "1  *  6  =  6\n",
            "1  *  7  =  7\n",
            "1  *  8  =  8\n",
            "1  *  9  =  9\n",
            "1  *  10  =  10\n",
            "2  *  1  =  2\n",
            "2  *  2  =  4\n",
            "2  *  3  =  6\n",
            "2  *  4  =  8\n",
            "2  *  5  =  10\n",
            "2  *  6  =  12\n",
            "2  *  7  =  14\n",
            "2  *  8  =  16\n",
            "2  *  9  =  18\n",
            "2  *  10  =  20\n",
            "3  *  1  =  3\n",
            "3  *  2  =  6\n",
            "3  *  3  =  9\n",
            "3  *  4  =  12\n",
            "3  *  5  =  15\n",
            "3  *  6  =  18\n",
            "3  *  7  =  21\n",
            "3  *  8  =  24\n",
            "3  *  9  =  27\n",
            "3  *  10  =  30\n",
            "4  *  1  =  4\n",
            "4  *  2  =  8\n",
            "4  *  3  =  12\n",
            "4  *  4  =  16\n",
            "4  *  5  =  20\n",
            "4  *  6  =  24\n",
            "4  *  7  =  28\n",
            "4  *  8  =  32\n",
            "4  *  9  =  36\n",
            "4  *  10  =  40\n",
            "5  *  1  =  5\n",
            "5  *  2  =  10\n",
            "5  *  3  =  15\n",
            "5  *  4  =  20\n",
            "5  *  5  =  25\n",
            "5  *  6  =  30\n",
            "5  *  7  =  35\n",
            "5  *  8  =  40\n",
            "5  *  9  =  45\n",
            "5  *  10  =  50\n",
            "\n"
          ]
        }
      ]
    },
    {
      "cell_type": "code",
      "source": [
        "list1=[12,45,78,56]\n",
        "list2=list1 #DIFFERENT ALIASES USED\n",
        "list2[3]=42\n",
        "print(list2)\n",
        "print(list1)\n",
        "print(\"USING COLON\")\n",
        "a=[41,52,63]\n",
        "b=a[:]\n",
        "b[1]=896\n",
        "print(b)\n",
        "print(a)"
      ],
      "metadata": {
        "colab": {
          "base_uri": "https://localhost:8080/"
        },
        "id": "ZdVTgIcjGMEl",
        "outputId": "fed900e8-c97d-4f7e-ba90-7a2dac05b1a0"
      },
      "execution_count": null,
      "outputs": [
        {
          "output_type": "stream",
          "name": "stdout",
          "text": [
            "[12, 45, 78, 42]\n",
            "[12, 45, 78, 42]\n",
            "USING COLON\n",
            "[41, 896, 63]\n",
            "[41, 52, 63]\n"
          ]
        }
      ]
    },
    {
      "cell_type": "code",
      "source": [
        "fruits=[\"apple\",\"banana\",\"cherry\",\"kiwi\",\"mango\"]\n",
        "newlist=[]\n",
        "for x in fruits:\n",
        "  if \"a\" in x:\n",
        "    newlist.append(x)\n",
        "print(newlist)\n",
        "new=[\"a\" in x for x in fruits]\n",
        "print(new)"
      ],
      "metadata": {
        "colab": {
          "base_uri": "https://localhost:8080/"
        },
        "id": "InN1JyMoIa6W",
        "outputId": "d9330a4a-1b34-4602-c997-2685be4822fb"
      },
      "execution_count": null,
      "outputs": [
        {
          "output_type": "stream",
          "name": "stdout",
          "text": [
            "['apple', 'banana', 'mango']\n",
            "[True, True, False, False, True]\n"
          ]
        }
      ]
    },
    {
      "cell_type": "code",
      "source": [
        "#LIST COMPREHENSION"
      ],
      "metadata": {
        "id": "aiJQDrl7Z8Lf"
      },
      "execution_count": null,
      "outputs": []
    },
    {
      "cell_type": "code",
      "source": [
        "n=5\n",
        "squares=[1,4,9,16,25]\n",
        "print(squares)\n",
        "l=[x*x for x in range(1,6)]\n",
        "print(l)"
      ],
      "metadata": {
        "colab": {
          "base_uri": "https://localhost:8080/"
        },
        "id": "Ju_tlnJgPhO3",
        "outputId": "9a2358bc-39d7-497d-b9bc-846a9777e607"
      },
      "execution_count": null,
      "outputs": [
        {
          "output_type": "stream",
          "name": "stdout",
          "text": [
            "[1, 4, 9, 16, 25]\n",
            "[1, 4, 9, 16, 25]\n"
          ]
        }
      ]
    },
    {
      "cell_type": "code",
      "source": [
        "# FUNCTION TO REVERSE A NUMBER\n",
        "def reverse(a):\n",
        "  sum=0\n",
        "  while(a>0):\n",
        "    num=a%10\n",
        "    sum=sum*10+num\n",
        "    a=a//10\n",
        "  return sum\n",
        "  \n",
        "print(\"THE REVERSE OF 1234 IS::\",reverse(1234))"
      ],
      "metadata": {
        "colab": {
          "base_uri": "https://localhost:8080/"
        },
        "id": "Y75Q8BKZNtxz",
        "outputId": "5ee821a7-2847-48da-9933-0bc7569e4820"
      },
      "execution_count": null,
      "outputs": [
        {
          "output_type": "stream",
          "name": "stdout",
          "text": [
            "THE REVERSE OF 1234 IS:: 4321\n"
          ]
        }
      ]
    },
    {
      "cell_type": "code",
      "source": [
        "#TO CALCULATE UPPER AND LOWER CASE LETTERS IN STRING\n",
        "def coun(string):\n",
        "  lower=0\n",
        "  upper=0\n",
        "  z=len(string)\n",
        "  while(z>0):\n",
        "    if string>='a'or string<='z':\n",
        "        lower=lower+1\n",
        "    elif string>='A'or string <='Z':\n",
        "        upper=upper+1\n",
        "    z=z-1\n",
        "  print(\"LOWERCASE LETTERS=\",lower)\n",
        "  print(\"UPPERCASE LETTERS=\",upper)  \n",
        "string=input(\"ENTER A STRING::\")\n",
        "coun(string)\n",
        "\n"
      ],
      "metadata": {
        "colab": {
          "base_uri": "https://localhost:8080/"
        },
        "id": "tEecyAJMSIhd",
        "outputId": "64eb9a98-53f3-4618-f393-277cb866d3fe"
      },
      "execution_count": null,
      "outputs": [
        {
          "output_type": "stream",
          "name": "stdout",
          "text": [
            "ENTER A STRING::as\n",
            "LOWERCASE LETTERS= 2\n",
            "UPPERCASE LETTERS= 0\n"
          ]
        }
      ]
    },
    {
      "cell_type": "markdown",
      "source": [
        "#BASICS OF NUMPY\n",
        "PDF-NUMPY1"
      ],
      "metadata": {
        "id": "a14IEMgVFNnX"
      }
    },
    {
      "cell_type": "code",
      "source": [
        "import numpy as np\n",
        "arr=np.array([[1,2,3],[4,5,6],[7,8,9]])\n",
        "print(arr)\n",
        "print(arr.ndim)\n",
        "print(arr.shape)\n",
        "print(arr.dtype)\n",
        "print(arr.size)"
      ],
      "metadata": {
        "colab": {
          "base_uri": "https://localhost:8080/"
        },
        "id": "8CsrYUgCFe0i",
        "outputId": "e902aa2c-ec12-41bc-a0d4-2bea404ab0c1"
      },
      "execution_count": null,
      "outputs": [
        {
          "output_type": "stream",
          "name": "stdout",
          "text": [
            "[[1 2 3]\n",
            " [4 5 6]\n",
            " [7 8 9]]\n",
            "2\n",
            "(3, 3)\n",
            "int64\n",
            "9\n"
          ]
        }
      ]
    },
    {
      "cell_type": "code",
      "source": [
        "#zeros and one matrix\n",
        "zero=np.zeros((3,3))\n",
        "print(\"ZEROS ARRAY\",zero)\n",
        "one=np.ones((3,3))\n",
        "print(\"ONES ARRAY\",one)"
      ],
      "metadata": {
        "colab": {
          "base_uri": "https://localhost:8080/"
        },
        "id": "qDJ4Yxn5JIJU",
        "outputId": "28a569a9-3154-4628-8853-d7e1164f61b4"
      },
      "execution_count": null,
      "outputs": [
        {
          "output_type": "stream",
          "name": "stdout",
          "text": [
            "ZEROS ARRAY [[0. 0. 0.]\n",
            " [0. 0. 0.]\n",
            " [0. 0. 0.]]\n",
            "ONES ARRAY [[1. 1. 1.]\n",
            " [1. 1. 1.]\n",
            " [1. 1. 1.]]\n"
          ]
        }
      ]
    },
    {
      "cell_type": "code",
      "source": [
        "#BASIC ARTHEMATIC OPERATIONS\n",
        "arr1=np.array([[1,2,3],[4,5,6],[7,8,9]])\n",
        "arr2=np.array([[1,22,36],[44,53,61],[70,84,96]])\n",
        "print(\"ADD OPERATION=\",arr1+arr2)\n",
        "print(\"SUB OPERATION=\",arr1-arr2)\n",
        "print(\"MUL OPERATION=\",arr1*arr2)\n",
        "print(\"DIV OPERATION=\",arr1/arr2)\n",
        "print(\"FLOOR DIV. OPERATION=\",arr1//arr2)\n",
        "print(\"ARRAY MUL OPERATION=\",arr1.dot(arr2))"
      ],
      "metadata": {
        "colab": {
          "base_uri": "https://localhost:8080/"
        },
        "id": "YhAr5DA_JzVJ",
        "outputId": "5281fd6f-3fd8-41c2-8342-9ec8f0fe107e"
      },
      "execution_count": null,
      "outputs": [
        {
          "output_type": "stream",
          "name": "stdout",
          "text": [
            "ADD OPERATION= [[  2  24  39]\n",
            " [ 48  58  67]\n",
            " [ 77  92 105]]\n",
            "SUB OPERATION= [[  0 -20 -33]\n",
            " [-40 -48 -55]\n",
            " [-63 -76 -87]]\n",
            "MUL OPERATION= [[  1  44 108]\n",
            " [176 265 366]\n",
            " [490 672 864]]\n",
            "DIV OPERATION= [[1.         0.09090909 0.08333333]\n",
            " [0.09090909 0.09433962 0.09836066]\n",
            " [0.1        0.0952381  0.09375   ]]\n",
            "FLOOR DIV. OPERATION= [[1 0 0]\n",
            " [0 0 0]\n",
            " [0 0 0]]\n",
            "ARRAY MUL OPERATION= [[ 299  380  446]\n",
            " [ 644  857 1025]\n",
            " [ 989 1334 1604]]\n"
          ]
        }
      ]
    },
    {
      "cell_type": "code",
      "source": [
        "#UNIVERSAL FUNCTIONS\n",
        "print(\"exp==\",np.exp(arr1))\n",
        "print(\"sin==\",np.sin(arr1))\n",
        "print(\"cos==\",np.cos(arr1))"
      ],
      "metadata": {
        "colab": {
          "base_uri": "https://localhost:8080/"
        },
        "id": "j_0RcENAXpSW",
        "outputId": "dbdfc37f-1e2c-47c6-f13b-295da564a202"
      },
      "execution_count": null,
      "outputs": [
        {
          "output_type": "stream",
          "name": "stdout",
          "text": [
            "exp== [[2.71828183e+00 7.38905610e+00 2.00855369e+01]\n",
            " [5.45981500e+01 1.48413159e+02 4.03428793e+02]\n",
            " [1.09663316e+03 2.98095799e+03 8.10308393e+03]]\n",
            "sin== [[ 0.84147098  0.90929743  0.14112001]\n",
            " [-0.7568025  -0.95892427 -0.2794155 ]\n",
            " [ 0.6569866   0.98935825  0.41211849]]\n",
            "cos== [[ 0.54030231 -0.41614684 -0.9899925 ]\n",
            " [-0.65364362  0.28366219  0.96017029]\n",
            " [ 0.75390225 -0.14550003 -0.91113026]]\n"
          ]
        }
      ]
    },
    {
      "cell_type": "code",
      "source": [
        "#SLICING\n",
        "print(arr1)\n",
        "print(\"arr[2][2]=\",arr[2][2])\n",
        "print(\":,2=\",arr[:,2])\n",
        "print(\"arr1[...,1]=\",arr1[...,1])\n",
        "print(\"arr1[...,1]=\",arr1[1,:])\n",
        "\n"
      ],
      "metadata": {
        "colab": {
          "base_uri": "https://localhost:8080/"
        },
        "id": "2OguKukJYF4-",
        "outputId": "673439d3-d37d-43f7-8d28-73f6c6f5b6d1"
      },
      "execution_count": null,
      "outputs": [
        {
          "output_type": "stream",
          "name": "stdout",
          "text": [
            "[[1 2 3]\n",
            " [4 5 6]\n",
            " [7 8 9]]\n",
            "arr[2][2]= 9\n",
            ":,2= [3 6 9]\n",
            "arr1[...,1]= [2 5 8]\n",
            "arr1[...,1]= [4 5 6]\n"
          ]
        }
      ]
    },
    {
      "cell_type": "code",
      "source": [
        "#BROADCASTING OF ARRAY\n",
        "arr1=np.array([[1,2],[3,4]])\n",
        "arr2=np.array([[1,2]])\n",
        "print(arr1+arr2)"
      ],
      "metadata": {
        "colab": {
          "base_uri": "https://localhost:8080/"
        },
        "id": "ED6RvPM7bG_7",
        "outputId": "e1f341bc-df01-40d3-9093-2675103b89c1"
      },
      "execution_count": null,
      "outputs": [
        {
          "output_type": "stream",
          "name": "stdout",
          "text": [
            "[[2 4]\n",
            " [4 6]]\n"
          ]
        }
      ]
    },
    {
      "cell_type": "markdown",
      "source": [
        "# MATPLOTLIB AND PYPLOT"
      ],
      "metadata": {
        "id": "4q2yEXAkaq6e"
      }
    },
    {
      "cell_type": "code",
      "source": [
        "import matplotlib.pyplot as plt\n",
        "import numpy as np\n",
        "x=np.linspace(0,10,100)\n",
        "plt.plot(x,np.sin(x),'--')\n",
        "plt.plot(x,np.cos(x))\n"
      ],
      "metadata": {
        "colab": {
          "base_uri": "https://localhost:8080/",
          "height": 282
        },
        "id": "ga807Y0l8hQQ",
        "outputId": "26410a2a-e217-429a-9fe3-0b54a9b70713"
      },
      "execution_count": null,
      "outputs": [
        {
          "output_type": "execute_result",
          "data": {
            "text/plain": [
              "[<matplotlib.lines.Line2D at 0x7f1ca0c5b9d0>]"
            ]
          },
          "metadata": {},
          "execution_count": 4
        },
        {
          "output_type": "display_data",
          "data": {
            "text/plain": [
              "<Figure size 432x288 with 1 Axes>"
            ],
            "image/png": "[encoded data removed]"
          },
          "metadata": {
            "needs_background": "light"
          }
        }
      ]
    },
    {
      "cell_type": "markdown",
      "source": [
        "#SUBPLOTS IN MATPLOTLIB"
      ],
      "metadata": {
        "id": "sTwcvYpDaf4h"
      }
    },
    {
      "cell_type": "code",
      "source": [
        "#PLOTING SUBPLOTS\n",
        "x = np.array([0, 1, 2, 3])\n",
        "y = np.array([3, 8, 1, 10])\n",
        "plt.subplot(2,1,1)\n",
        "plt.plot(x,y)\n",
        "plt.show()\n",
        "x = np.array([0, 9, 2, 6])\n",
        "y = np.array([3, 5, 9, 10])\n",
        "plt.subplot(2,1,2)\n",
        "plt.plot(x,y,'-ok')\n",
        "plt.show()\n",
        "x = np.array([0, 1, 2, 3])\n",
        "y = np.array([0, 1, 2, 3])\n",
        "plt.subplot(1,2,1)\n",
        "plt.plot(x,y,linestyle='dashed')\n",
        "plt.show()\n",
        "plt.style.use(\"seaborn-whitegrid\")\n",
        "x = np.array([0, 1, 2, 3])\n",
        "y = np.array([0, 1, 2, 3])\n",
        "plt.subplot(1,2,2)\n",
        "plt.plot(x,y,color=\"red\",linestyle='dotted')\n",
        "plt.show()"
      ],
      "metadata": {
        "colab": {
          "base_uri": "https://localhost:8080/",
          "height": 759
        },
        "id": "9O-gMKNlBgmG",
        "outputId": "a59ef1fa-8e12-4f16-9bec-58d7c0b8b774"
      },
      "execution_count": null,
      "outputs": [
        {
          "output_type": "display_data",
          "data": {
            "text/plain": [
              "<Figure size 432x288 with 1 Axes>"
            ],
            "image/png": "[encoded data removed]"
          },
          "metadata": {}
        },
        {
          "output_type": "display_data",
          "data": {
            "text/plain": [
              "<Figure size 432x288 with 1 Axes>"
            ],
            "image/png": "[encoded data removed]"
          },
          "metadata": {}
        },
        {
          "output_type": "display_data",
          "data": {
            "text/plain": [
              "<Figure size 432x288 with 1 Axes>"
            ],
            "image/png": "[encoded data removed]"
          },
          "metadata": {}
        },
        {
          "output_type": "display_data",
          "data": {
            "text/plain": [
              "<Figure size 432x288 with 1 Axes>"
            ],
            "image/png": "[encoded data removed]"
          },
          "metadata": {}
        }
      ]
    }
  ]
}